{
 "cells": [
  {
   "cell_type": "code",
   "execution_count": 9,
   "id": "d16ccc7d",
   "metadata": {},
   "outputs": [
    {
     "name": "stdout",
     "output_type": "stream",
     "text": [
      "30\n",
      "20\n"
     ]
    }
   ],
   "source": [
    "cantidad_de_manzanas=10\n",
    "cantidad_de_naranjas=20\n",
    "cantidad_de_frutas= cantidad_de_manzanas + cantidad_de_naranjas\n",
    "print(cantidad_de_frutas)  \n",
    "\n",
    "frutas_vendidas=10\n",
    "frutas_restantes = cantidad_de_frutas - frutas_vendidas\n",
    "print(frutas_restantes)"
   ]
  },
  {
   "cell_type": "code",
   "execution_count": 11,
   "id": "24205ed4",
   "metadata": {},
   "outputs": [
    {
     "name": "stdout",
     "output_type": "stream",
     "text": [
      "hola. me llamo carlos riquelme .mucho gusto\n"
     ]
    }
   ],
   "source": [
    "nombre = \"carlos\"\n",
    "apellido = \"riquelme\"\n",
    "print (f\"hola. me llamo {nombre} {apellido} .mucho gusto\")"
   ]
  },
  {
   "cell_type": "code",
   "execution_count": 12,
   "id": "1e1e4425",
   "metadata": {},
   "outputs": [
    {
     "name": "stdout",
     "output_type": "stream",
     "text": [
      "jose\n"
     ]
    }
   ],
   "source": [
    "nombre = input(\"cual es tu nombvre\")\n",
    "print(nombre)"
   ]
  },
  {
   "cell_type": "code",
   "execution_count": 21,
   "id": "91a87d26",
   "metadata": {},
   "outputs": [
    {
     "name": "stdout",
     "output_type": "stream",
     "text": [
      "13\n"
     ]
    }
   ],
   "source": [
    "numero1 = int (input(\"ingrese el primer numero\"))\n",
    "numero2 = int (input(\"ingrese otro numero\"))\n",
    "suma = numero1 + numero2\n",
    "print (suma)"
   ]
  },
  {
   "cell_type": "code",
   "execution_count": 37,
   "id": "3091fb26",
   "metadata": {},
   "outputs": [
    {
     "name": "stdout",
     "output_type": "stream",
     "text": [
      "comprar una moto con motor 200\n"
     ]
    }
   ],
   "source": [
    "def comprar_una_moto(motor):\n",
    "    print(f\"comprar una moto con motor {motor}\")\n",
    "\n",
    "comprar_una_moto(200)"
   ]
  },
  {
   "cell_type": "code",
   "execution_count": 23,
   "id": "58313e2b",
   "metadata": {},
   "outputs": [
    {
     "name": "stdout",
     "output_type": "stream",
     "text": [
      "50\n"
     ]
    }
   ],
   "source": [
    "numero1 = int (input(\"ingrese el primer numero\"))\n",
    "numero2 = int (input(\"ingrese oro numero\"))\n",
    "suma = numero1 + numero2\n",
    "print(suma)"
   ]
  },
  {
   "cell_type": "code",
   "execution_count": 40,
   "id": "298a87ea",
   "metadata": {},
   "outputs": [
    {
     "name": "stdout",
     "output_type": "stream",
     "text": [
      "estoy cocinando carne\n"
     ]
    }
   ],
   "source": [
    "def preparar_comida():\n",
    "    ingrediente = 'carne'\n",
    "    print(f'estoy cocinando {ingrediente}')\n",
    "\n",
    "preparar_comida()   "
   ]
  },
  {
   "cell_type": "code",
   "execution_count": 29,
   "id": "c21bb750",
   "metadata": {},
   "outputs": [
    {
     "name": "stdout",
     "output_type": "stream",
     "text": [
      "colocar el agua\n",
      "poner colorante\n",
      "mezclar el ingrediente\n",
      "colocar azucar\n",
      "hervir\n",
      "poner en el molde y colocar en la refrigueradora\n",
      "disfrutar el heldo\n",
      "colocar el agua\n",
      "poner colorante\n",
      "mezclar el ingrediente\n",
      "colocar azucar\n",
      "hervir\n",
      "poner en el molde y colocar en la refrigueradora\n",
      "disfrutar el heldo\n",
      "colocar el agua\n",
      "poner colorante\n",
      "mezclar el ingrediente\n",
      "colocar azucar\n",
      "hervir\n",
      "poner en el molde y colocar en la refrigueradora\n",
      "disfrutar el heldo\n"
     ]
    }
   ],
   "source": [
    "def preparar_heldo():\n",
    "    print('colocar el agua')\n",
    "    print(\"poner colorante\")\n",
    "    print('mezclar el ingrediente')\n",
    "    print('colocar azucar')\n",
    "    print('hervir')\n",
    "    print('poner en el molde y colocar en la refrigueradora')\n",
    "    print('disfrutar el heldo')\n",
    "\n",
    "preparar_heldo()\n",
    "preparar_heldo()\n",
    "preparar_heldo()\n"
   ]
  }
 ],
 "metadata": {
  "kernelspec": {
   "display_name": ".venv",
   "language": "python",
   "name": "python3"
  },
  "language_info": {
   "codemirror_mode": {
    "name": "ipython",
    "version": 3
   },
   "file_extension": ".py",
   "mimetype": "text/x-python",
   "name": "python",
   "nbconvert_exporter": "python",
   "pygments_lexer": "ipython3",
   "version": "3.12.3"
  }
 },
 "nbformat": 4,
 "nbformat_minor": 5
}

{
 "cells": [
  {
   "cell_type": "code",
   "execution_count": 16,
   "id": "54787abc",
   "metadata": {},
   "outputs": [
    {
     "name": "stdout",
     "output_type": "stream",
     "text": [
      "palabra\n"
     ]
    }
   ],
   "source": [
    "def variable_palabra():\n",
    "    print('palabra')\n",
    "\n",
    "print('palabra') \n",
    " \n"
   ]
  },
  {
   "cell_type": "code",
   "execution_count": 22,
   "id": "97a6b0e1",
   "metadata": {},
   "outputs": [
    {
     "name": "stdout",
     "output_type": "stream",
     "text": [
      "las letras son iguales\n"
     ]
    }
   ],
   "source": [
    "def comparar_letra(letra1,letra2):\n",
    "    if letra1 == letra2:\n",
    "        print('las letras son iguales')\n",
    "    else:\n",
    "        print(\"las letras no son iguales\")\n",
    "comparar_letra('auto','auto')        \n"
   ]
  },
  {
   "cell_type": "code",
   "execution_count": 24,
   "id": "49bf9b45",
   "metadata": {},
   "outputs": [
    {
     "data": {
      "text/plain": [
       "False"
      ]
     },
     "execution_count": 24,
     "metadata": {},
     "output_type": "execute_result"
    }
   ],
   "source": [
    "def palabra_y_numero(palabra,numero):\n",
    "    if len(palabra) == numero:\n",
    "        return True\n",
    "    else:\n",
    "        return False\n",
    "    \n",
    "palabra_y_numero('halolocura',5)    \n"
   ]
  },
  {
   "cell_type": "code",
   "execution_count": 27,
   "id": "b88d9818",
   "metadata": {},
   "outputs": [
    {
     "name": "stdout",
     "output_type": "stream",
     "text": [
      "[['h', 'o', 'l', 'a', ' ', 'q', 'u', 'e', ' ', 't', 'a', 'l']]\n",
      "[['h', 'o', 'l', 'a', ' ', 'q', 'u', 'e', ' ', 't', 'a', 'l'], ['c', 'o', 'm', 'o', ' ', 'a', 'n', 'd', 'a', 'm', 'o', 's', ' ', 'r', 'e', 'y']]\n",
      "[['h', 'o', 'l', 'a', ' ', 'q', 'u', 'e', ' ', 't', 'a', 'l'], ['c', 'o', 'm', 'o', ' ', 'a', 'n', 'd', 'a', 'm', 'o', 's', ' ', 'r', 'e', 'y'], ['a', 'l', 'o', 'j', 'a', 'a', 'a', ' ', 'p', 'e', 'e', 'r', 'o', 's']]\n"
     ]
    }
   ],
   "source": [
    "palabras_ingrsadas = []\n",
    "for i in range(3):\n",
    "    palabra = input('ingrese una palabra rey')\n",
    "    lista_caracteres = list(palabra)\n",
    "    palabras_ingrsadas.append(lista_caracteres)\n",
    "    print(palabras_ingrsadas)"
   ]
  },
  {
   "cell_type": "code",
   "execution_count": null,
   "id": "5427791e",
   "metadata": {},
   "outputs": [],
   "source": [
    "lists = "
   ]
  },
  {
   "cell_type": "code",
   "execution_count": 29,
   "id": "feb87ac9",
   "metadata": {},
   "outputs": [
    {
     "name": "stdout",
     "output_type": "stream",
     "text": [
      "te quedan3 intentos\n",
      "te quedan2 intentos\n",
      "te quedan1 intentos\n",
      "te quedaste sin intentos\n"
     ]
    }
   ],
   "source": [
    "intentos = 3\n",
    "\n",
    "while intentos > 0:\n",
    "    print(f'te quedan{intentos} intentos')\n",
    "    palabra = input('ingrse la palabra')\n",
    "    intentos = intentos - 1\n",
    "\n",
    "print(\"te quedaste sin intentos\")    "
   ]
  },
  {
   "cell_type": "code",
   "execution_count": null,
   "id": "a83060c8",
   "metadata": {},
   "outputs": [],
   "source": [
    "def juego_adivina_palabra():\n",
    "    palabra_secreta = 'python'\n",
    "    cantidad_letras = len(palabra_secreta)\n",
    "    intentos_maximos = 6\n",
    "    "
   ]
  }
 ],
 "metadata": {
  "kernelspec": {
   "display_name": ".venv",
   "language": "python",
   "name": "python3"
  },
  "language_info": {
   "codemirror_mode": {
    "name": "ipython",
    "version": 3
   },
   "file_extension": ".py",
   "mimetype": "text/x-python",
   "name": "python",
   "nbconvert_exporter": "python",
   "pygments_lexer": "ipython3",
   "version": "3.12.3"
  }
 },
 "nbformat": 4,
 "nbformat_minor": 5
}

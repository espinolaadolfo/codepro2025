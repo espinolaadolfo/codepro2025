{
 "cells": [
  {
   "cell_type": "code",
   "execution_count": 6,
   "id": "d4dab7bc",
   "metadata": {},
   "outputs": [
    {
     "name": "stdout",
     "output_type": "stream",
     "text": [
      "hace lo que quieras caballu\n"
     ]
    }
   ],
   "source": [
    "edad = int (input ('ingrese el numero'))\n",
    "if edad < 18:\n",
    "    print('si es menor juguito nomas')\n",
    "elif edad > 21:\n",
    "     print('podes tomar pero no comprar') \n",
    "else:\n",
    "     print('hace lo que quieras caballu')          "
   ]
  },
  {
   "cell_type": "code",
   "execution_count": null,
   "id": "84e53670",
   "metadata": {},
   "outputs": [],
   "source": [
    "temperatura = int (input('ingrese la temperatura en grado celcius'))\n",
    "print(temperatura)\n",
    "if\n"
   ]
  },
  {
   "cell_type": "code",
   "execution_count": null,
   "id": "b49d7fb4",
   "metadata": {},
   "outputs": [],
   "source": [
    "contrasena_correcta = 'contrasecreta'\n",
    "while True;\n",
    "     entrada = input('intrduce la cotrasena')\n",
    "    if entrada == contrasena_correcta\n",
    "       print('cotrasena correcta')\n",
    "    else:\n",
    "       print('contrasena incorrecta')\n",
    "   "
   ]
  },
  {
   "cell_type": "code",
   "execution_count": 7,
   "id": "e6a242fc",
   "metadata": {},
   "outputs": [
    {
     "name": "stdout",
     "output_type": "stream",
     "text": [
      "['manzana', 'mazana', 'sandia', 'mandarina', 'naranja']\n"
     ]
    }
   ],
   "source": [
    "lista_de_frutas = ['manzana','banana','mango','sandia','mandarina']\n",
    "lista_de_frutas.append('naranja')\n",
    "lista_de_frutas[1]='mazana'\n",
    "lista_de_frutas.remove('mango')\n",
    "print(lista_de_frutas)"
   ]
  },
  {
   "cell_type": "code",
   "execution_count": null,
   "id": "866e6b62",
   "metadata": {},
   "outputs": [
    {
     "name": "stdout",
     "output_type": "stream",
     "text": [
      "2\n",
      "4\n",
      "6\n",
      "8\n",
      "10\n",
      "12\n",
      "14\n",
      "16\n",
      "18\n",
      "20\n"
     ]
    }
   ],
   "source": [
    "listas = [1,2,3,4,5,6,7,8,9,10]\n",
    "for i in listas:\n",
    "    multiplicado = i*2\n",
    "    print(multiplicado)  "
   ]
  },
  {
   "cell_type": "code",
   "execution_count": 10,
   "id": "5fd690b1",
   "metadata": {},
   "outputs": [
    {
     "name": "stdout",
     "output_type": "stream",
     "text": [
      "toyota\n",
      "mercedes\n",
      "ferrari\n"
     ]
    }
   ],
   "source": [
    "listas_de_marcas = ['toyota','mercedes','ferrari','audii','fiaa','kiaa']\n",
    "for marca in listas_de_marcas:\n",
    "    if len(marca) >= 6:\n",
    "        print(marca)\n"
   ]
  },
  {
   "cell_type": "code",
   "execution_count": 13,
   "id": "9c549ae4",
   "metadata": {},
   "outputs": [
    {
     "name": "stdout",
     "output_type": "stream",
     "text": [
      "encontre una o\n"
     ]
    }
   ],
   "source": [
    "frases = input(\"solicitar al usuario que ingrese una frase\")\n",
    "for letra in frases:\n",
    "    if letra == 'o':\n",
    "        print('encontre una o')\n"
   ]
  }
 ],
 "metadata": {
  "kernelspec": {
   "display_name": ".venv",
   "language": "python",
   "name": "python3"
  },
  "language_info": {
   "codemirror_mode": {
    "name": "ipython",
    "version": 3
   },
   "file_extension": ".py",
   "mimetype": "text/x-python",
   "name": "python",
   "nbconvert_exporter": "python",
   "pygments_lexer": "ipython3",
   "version": "3.12.3"
  }
 },
 "nbformat": 4,
 "nbformat_minor": 5
}
